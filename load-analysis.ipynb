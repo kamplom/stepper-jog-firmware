{
 "cells": [
  {
   "cell_type": "code",
   "execution_count": 1,
   "metadata": {},
   "outputs": [],
   "source": [
    "g = 9.81"
   ]
  },
  {
   "cell_type": "markdown",
   "metadata": {},
   "source": [
    "## Forces\n",
    "Massa biga:\n",
    "$$\n",
    "m_{b}=70\\text{ kg}\n",
    "$$\n",
    "Massa rail:\n",
    "$$\n",
    "m_{r} = 60 \\text{ kg}\n",
    "$$\n",
    "Massa part mòbil:\n",
    "$$\n",
    "m_{m} = 35\\text{ kg}\n",
    "$$\n"
   ]
  },
  {
   "cell_type": "code",
   "execution_count": 2,
   "metadata": {},
   "outputs": [],
   "source": [
    "m_b = 70\n",
    "m_r = 60\n",
    "m_m = 20"
   ]
  },
  {
   "cell_type": "markdown",
   "metadata": {},
   "source": [
    "Força màxima suportada a un tub transversal. Considerem que la força de les parts estàtiques no está distribuïda de forma completament uniforme, aleshores un tub pot rebre més de $1/4$ d'aquesta. Siga aquesta fracció $2/5$ per a un cas extrem.\n",
    "\n",
    "Considerem també que la part mòbil es situa de forma que tot el seu pes recau sobre aquest tub, de nou, un cas extrem.\n",
    "\n",
    "La força total esdevé:\n",
    "\n",
    "$$\n",
    "F = \\left(\\frac{L - x_v}{L}(m_{b}+m_{r}) + m_{m}\\right)g\n",
    "$$"
   ]
  },
  {
   "cell_type": "code",
   "execution_count": 3,
   "metadata": {},
   "outputs": [
    {
     "name": "stdout",
     "output_type": "stream",
     "text": [
      "1143.5657142857144\n"
     ]
    }
   ],
   "source": [
    "centre_viga = 90 #cm\n",
    "longitud_tub = 350 #cm\n",
    "F = ((longitud_tub - centre_viga) / longitud_tub * (m_b + m_r) + m_m) * g\n",
    "print(F)"
   ]
  },
  {
   "cell_type": "markdown",
   "metadata": {},
   "source": [
    "La força no s'aplica al centre del tub, considerant el punt d'aplicació\n",
    "$$\n",
    "F_{dreta} = \\frac{2}{3} F\n",
    "$$\n",
    "$$\n",
    "F_{esquerra} = F - F_{dreta}\n",
    "$$"
   ]
  },
  {
   "cell_type": "code",
   "execution_count": 4,
   "metadata": {},
   "outputs": [
    {
     "name": "stdout",
     "output_type": "stream",
     "text": [
      "762.3771428571429\n",
      "381.18857142857155\n"
     ]
    }
   ],
   "source": [
    "F_d = 2/3 * F\n",
    "print(F_d)\n",
    "F_e = F - F_d\n",
    "print(F_e)"
   ]
  },
  {
   "cell_type": "markdown",
   "metadata": {},
   "source": [
    "A cada costat hi ha dos varetes M8, aleshores cada una soportará una força màxima de\n",
    "$$\n",
    "F_{max} = \\frac{F_{dreta}}{2}\n",
    "$$"
   ]
  },
  {
   "cell_type": "code",
   "execution_count": 5,
   "metadata": {},
   "outputs": [
    {
     "name": "stdout",
     "output_type": "stream",
     "text": [
      "381.18857142857144\n"
     ]
    }
   ],
   "source": [
    "F_max = F_d / 2\n",
    "print(F_max)"
   ]
  },
  {
   "cell_type": "markdown",
   "metadata": {},
   "source": [
    "La viga s'uneix a cada un dels tub transversals amb 4 caragols M8. Seguint el mateix raonament anterior però considerant la força distribuida uniformement tenim\n",
    "$$\n",
    "F_{max}^{b} = \\frac{F}{4}\n",
    "$$\n",
    "on $F$ es la força calculada inicialment."
   ]
  },
  {
   "cell_type": "code",
   "execution_count": 6,
   "metadata": {},
   "outputs": [
    {
     "name": "stdout",
     "output_type": "stream",
     "text": [
      "285.8914285714286\n"
     ]
    }
   ],
   "source": [
    "Fb_max = F / 4\n",
    "print(Fb_max)"
   ]
  },
  {
   "cell_type": "markdown",
   "metadata": {},
   "source": [
    "Les peces verticals s'uneixen a la viga amb 4 caragols M5. Hi han un total de 12 unions. Apliquem un procediment anàleg considerant una distribució no uniforme de la força\n",
    "$$\n",
    "F^v = \\left(\\frac{1}{9}(m_{b}+m_{r})+m_{m}\\right)g\n",
    "$$"
   ]
  },
  {
   "cell_type": "code",
   "execution_count": 7,
   "metadata": {},
   "outputs": [
    {
     "name": "stdout",
     "output_type": "stream",
     "text": [
      "337.9\n"
     ]
    }
   ],
   "source": [
    "Fv = (1/9 * (m_b + m_r) + m_m) * g\n",
    "print(Fv)"
   ]
  },
  {
   "cell_type": "markdown",
   "metadata": {},
   "source": [
    "Així la força màxima que vora un caragol serà\n",
    "$$\n",
    "F^{M5}_{max}=\\frac{F^v}{4}\n",
    "$$"
   ]
  },
  {
   "cell_type": "code",
   "execution_count": 8,
   "metadata": {},
   "outputs": [],
   "source": [
    "Fm5_max = Fv / 4"
   ]
  },
  {
   "cell_type": "markdown",
   "metadata": {},
   "source": [
    "## Forces màximes\n",
    "\n",
    "Força màxima d'una vareta M8 5.6 en tensió:\n",
    "$$\n",
    "F_{n}^{M8} = 18300\\text{ N}\n",
    "$$\n",
    "Força màxima caragol M5 5.6 en tensió:\n",
    "$$\n",
    "F_{n}^{M5} = 7100\\text{ N}\n",
    "$$\n",
    "Per últim les escuadres d'unió amb les part verticals están basades en fricció i podem gastar aquesta [calculadora](https://vention.io/tools/calculators/friction) \n",
    "$$\n",
    "F_{n}^{f} = 2300 \\text{ N}\n",
    "$$\n",
    "Notem que hi han mes juntes que depenen de la fricció però totes tenen un nombre de caragols molt major a aquesta i per tant el factor de seguretat serà sempre major."
   ]
  },
  {
   "cell_type": "code",
   "execution_count": 9,
   "metadata": {},
   "outputs": [],
   "source": [
    "FnM8 = 18300\n",
    "FnM5 = 7100\n",
    "Fnf = 2300"
   ]
  },
  {
   "cell_type": "markdown",
   "metadata": {},
   "source": [
    "## Factors de seguretat\n",
    "\n",
    "Per a les varetes M8 dels tubs tranversals:"
   ]
  },
  {
   "cell_type": "code",
   "execution_count": 10,
   "metadata": {},
   "outputs": [
    {
     "data": {
      "text/plain": [
       "48.007735204173414"
      ]
     },
     "execution_count": 10,
     "metadata": {},
     "output_type": "execute_result"
    }
   ],
   "source": [
    "SFM8 = FnM8 / F_max\n",
    "SFM8"
   ]
  },
  {
   "cell_type": "markdown",
   "metadata": {},
   "source": [
    "Per a les varetes M8 de la biga:"
   ]
  },
  {
   "cell_type": "code",
   "execution_count": 11,
   "metadata": {},
   "outputs": [
    {
     "data": {
      "text/plain": [
       "64.01031360556455"
      ]
     },
     "execution_count": 11,
     "metadata": {},
     "output_type": "execute_result"
    }
   ],
   "source": [
    "SFM8b = FnM8 / Fb_max\n",
    "SFM8b"
   ]
  },
  {
   "cell_type": "markdown",
   "metadata": {},
   "source": [
    "Per a els caragols M5:"
   ]
  },
  {
   "cell_type": "code",
   "execution_count": 12,
   "metadata": {},
   "outputs": [
    {
     "data": {
      "text/plain": [
       "84.04853506954721"
      ]
     },
     "execution_count": 12,
     "metadata": {},
     "output_type": "execute_result"
    }
   ],
   "source": [
    "SFM5 = FnM5 / Fm5_max\n",
    "SFM5"
   ]
  },
  {
   "cell_type": "markdown",
   "metadata": {},
   "source": [
    "Per a les juntes de fricció:"
   ]
  },
  {
   "cell_type": "code",
   "execution_count": 13,
   "metadata": {},
   "outputs": [
    {
     "data": {
      "text/plain": [
       "27.226990233796982"
      ]
     },
     "execution_count": 13,
     "metadata": {},
     "output_type": "execute_result"
    }
   ],
   "source": [
    "SFf = Fnf / Fm5_max\n",
    "SFf"
   ]
  },
  {
   "cell_type": "markdown",
   "metadata": {},
   "source": [
    "## Altres consideracions\n",
    "Hi han altres posibles problemes més realistes:\n",
    "- Femelles que s'amollen degut a la vibració: gastar femelles nyloc on siga possible\n",
    "- Caragols que s'amollen degut a la vibració: si no es possible gastar femelles amb nyloc aplicar thread-lock\n",
    "- Tubs d'acer debilitats degut als forats: posar pletines d'acer a les parts foradades\n",
    "- Estructura del sostre: l'estructura del sostre són tubs 100x50 amb bastants triangulacions, el pes dels raïls deuria d'estar ben dins del marge de seguretat"
   ]
  },
  {
   "cell_type": "markdown",
   "metadata": {},
   "source": [
    "## Tubs transversals\n",
    "\n",
    "Lo millor per al final. Considerant la força anterior on un sol tub veu uns 115 kg, podem calcular el stress al que el tub es sotmés:\n",
    "![Stress](image.png)\n",
    "Tenim aleshores que el stress màxim reduït es de $\\sigma_{red} = 160$ MPa. Considerem el yield strength del acer de forma conservadora de $S_y = 250$ MPa. "
   ]
  },
  {
   "cell_type": "code",
   "execution_count": 14,
   "metadata": {},
   "outputs": [
    {
     "name": "stdout",
     "output_type": "stream",
     "text": [
      "1.5625\n"
     ]
    }
   ],
   "source": [
    "sigma_red = 160\n",
    "S_y = 250\n",
    "SF_tub = S_y / 160\n",
    "print(SF_tub) "
   ]
  },
  {
   "cell_type": "markdown",
   "metadata": {},
   "source": [
    "Aquest factor de seguretat de 1.5, tot i que en condicions extremes irreals, es relativament baix. Està al límit de l'acceptabilitat per a un entorn controlat com el nostre, però el podem incrementar fàcilment.\n",
    "![Deflecció](image2.png)\n",
    "A més, la deflecció màxima del tub es de uns 25mm, no es un problema per se però pot qudar malament visualment.\n",
    "\n",
    "Aleshores la solució als dos problemes es colocar a cada tub dos cables d'acer en tensió, de manera que assumeixen part de la càrrega aplicada i disminueixen la deflecció màxima total i dinàmica quan la càrrega està canviant."
   ]
  }
 ],
 "metadata": {
  "kernelspec": {
   "display_name": ".venv",
   "language": "python",
   "name": "python3"
  },
  "language_info": {
   "codemirror_mode": {
    "name": "ipython",
    "version": 3
   },
   "file_extension": ".py",
   "mimetype": "text/x-python",
   "name": "python",
   "nbconvert_exporter": "python",
   "pygments_lexer": "ipython3",
   "version": "3.12.7"
  }
 },
 "nbformat": 4,
 "nbformat_minor": 2
}
